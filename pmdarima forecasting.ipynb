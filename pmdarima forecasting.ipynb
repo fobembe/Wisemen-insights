{
 "cells": [
  {
   "cell_type": "markdown",
   "metadata": {},
   "source": [
    "# Univariate Forecasting with pmdarima"
   ]
  },
  {
   "cell_type": "markdown",
   "metadata": {},
   "source": [
    "## Import the Libraries"
   ]
  },
  {
   "cell_type": "code",
   "execution_count": 1,
   "metadata": {},
   "outputs": [],
   "source": [
    "import pandas as pd\n",
    "import numpy as np\n",
    "import matplotlib.pyplot as plt\n",
    "%matplotlib inline\n",
    "import pmdarima as pm"
   ]
  },
  {
   "cell_type": "markdown",
   "metadata": {},
   "source": [
    "### Data import and Preprocessing"
   ]
  },
  {
   "cell_type": "code",
   "execution_count": 2,
   "metadata": {},
   "outputs": [],
   "source": [
    "data = pd.read_csv('sarim.txt')"
   ]
  },
  {
   "cell_type": "code",
   "execution_count": 3,
   "metadata": {},
   "outputs": [
    {
     "data": {
      "text/html": [
       "<div>\n",
       "<style scoped>\n",
       "    .dataframe tbody tr th:only-of-type {\n",
       "        vertical-align: middle;\n",
       "    }\n",
       "\n",
       "    .dataframe tbody tr th {\n",
       "        vertical-align: top;\n",
       "    }\n",
       "\n",
       "    .dataframe thead th {\n",
       "        text-align: right;\n",
       "    }\n",
       "</style>\n",
       "<table border=\"1\" class=\"dataframe\">\n",
       "  <thead>\n",
       "    <tr style=\"text-align: right;\">\n",
       "      <th></th>\n",
       "      <th>date</th>\n",
       "      <th>value</th>\n",
       "    </tr>\n",
       "  </thead>\n",
       "  <tbody>\n",
       "    <tr>\n",
       "      <th>0</th>\n",
       "      <td>1991-07-01</td>\n",
       "      <td>3.526591</td>\n",
       "    </tr>\n",
       "    <tr>\n",
       "      <th>1</th>\n",
       "      <td>1991-08-01</td>\n",
       "      <td>3.180891</td>\n",
       "    </tr>\n",
       "    <tr>\n",
       "      <th>2</th>\n",
       "      <td>1991-09-01</td>\n",
       "      <td>3.252221</td>\n",
       "    </tr>\n",
       "    <tr>\n",
       "      <th>3</th>\n",
       "      <td>1991-10-01</td>\n",
       "      <td>3.611003</td>\n",
       "    </tr>\n",
       "    <tr>\n",
       "      <th>4</th>\n",
       "      <td>1991-11-01</td>\n",
       "      <td>3.565869</td>\n",
       "    </tr>\n",
       "  </tbody>\n",
       "</table>\n",
       "</div>"
      ],
      "text/plain": [
       "         date     value\n",
       "0  1991-07-01  3.526591\n",
       "1  1991-08-01  3.180891\n",
       "2  1991-09-01  3.252221\n",
       "3  1991-10-01  3.611003\n",
       "4  1991-11-01  3.565869"
      ]
     },
     "execution_count": 3,
     "metadata": {},
     "output_type": "execute_result"
    }
   ],
   "source": [
    "data.head()"
   ]
  },
  {
   "cell_type": "code",
   "execution_count": 4,
   "metadata": {},
   "outputs": [
    {
     "data": {
      "text/plain": [
       "(204, 2)"
      ]
     },
     "execution_count": 4,
     "metadata": {},
     "output_type": "execute_result"
    }
   ],
   "source": [
    "data.shape"
   ]
  },
  {
   "cell_type": "code",
   "execution_count": 5,
   "metadata": {},
   "outputs": [],
   "source": [
    "data['date'] = pd.to_datetime(data['date'])"
   ]
  },
  {
   "cell_type": "code",
   "execution_count": 6,
   "metadata": {},
   "outputs": [],
   "source": [
    "data = data.set_index('date')"
   ]
  },
  {
   "cell_type": "markdown",
   "metadata": {},
   "source": [
    "### Train the model using 184 samples and test on 20 samples"
   ]
  },
  {
   "cell_type": "code",
   "execution_count": 7,
   "metadata": {},
   "outputs": [],
   "source": [
    "train = data[:184]\n",
    "test = data[184:]"
   ]
  },
  {
   "cell_type": "code",
   "execution_count": 8,
   "metadata": {},
   "outputs": [
    {
     "data": {
      "text/plain": [
       "((184, 1), (20, 1))"
      ]
     },
     "execution_count": 8,
     "metadata": {},
     "output_type": "execute_result"
    }
   ],
   "source": [
    "train.shape, test.shape"
   ]
  },
  {
   "cell_type": "code",
   "execution_count": 9,
   "metadata": {},
   "outputs": [
    {
     "name": "stdout",
     "output_type": "stream",
     "text": [
      "Performing stepwise search to minimize aic\n",
      "Fit ARIMA(1,1,1)x(1,1,1,12) [intercept=True]; AIC=361.021, BIC=379.871, Time=0.909 seconds\n",
      "Fit ARIMA(0,1,0)x(0,1,0,12) [intercept=True]; AIC=482.883, BIC=489.166, Time=0.016 seconds\n",
      "Fit ARIMA(1,1,0)x(1,1,0,12) [intercept=True]; AIC=393.307, BIC=405.874, Time=0.255 seconds\n",
      "Fit ARIMA(0,1,1)x(0,1,1,12) [intercept=True]; AIC=367.353, BIC=379.920, Time=0.765 seconds\n",
      "Fit ARIMA(0,1,0)x(0,1,0,12) [intercept=False]; AIC=480.967, BIC=484.108, Time=0.019 seconds\n",
      "Fit ARIMA(1,1,1)x(0,1,1,12) [intercept=True]; AIC=359.435, BIC=375.144, Time=0.516 seconds\n",
      "Fit ARIMA(1,1,1)x(0,1,0,12) [intercept=True]; AIC=368.949, BIC=381.515, Time=0.144 seconds\n",
      "Fit ARIMA(1,1,1)x(0,1,2,12) [intercept=True]; AIC=360.196, BIC=379.046, Time=1.863 seconds\n",
      "Fit ARIMA(1,1,1)x(1,1,0,12) [intercept=True]; AIC=363.636, BIC=379.345, Time=0.429 seconds\n",
      "Fit ARIMA(1,1,1)x(1,1,2,12) [intercept=True]; AIC=359.025, BIC=381.016, Time=2.457 seconds\n",
      "Fit ARIMA(1,1,1)x(2,1,2,12) [intercept=True]; AIC=357.831, BIC=382.964, Time=3.328 seconds\n",
      "Fit ARIMA(1,1,1)x(2,1,1,12) [intercept=True]; AIC=355.848, BIC=377.840, Time=2.057 seconds\n",
      "Fit ARIMA(1,1,1)x(2,1,0,12) [intercept=True]; AIC=354.588, BIC=373.438, Time=1.265 seconds\n",
      "Fit ARIMA(1,1,1)x(3,1,0,12) [intercept=True]; AIC=355.823, BIC=377.815, Time=2.722 seconds\n",
      "Fit ARIMA(1,1,1)x(3,1,1,12) [intercept=True]; AIC=350.031, BIC=375.164, Time=10.049 seconds\n",
      "Near non-invertible roots for order (1, 1, 1)(3, 1, 1, 12); setting score to inf (at least one inverse root too close to the border of the unit circle: 0.993)\n",
      "Fit ARIMA(0,1,1)x(2,1,0,12) [intercept=True]; AIC=362.971, BIC=378.679, Time=2.007 seconds\n",
      "Fit ARIMA(1,1,0)x(2,1,0,12) [intercept=True]; AIC=380.088, BIC=395.796, Time=0.992 seconds\n",
      "Fit ARIMA(2,1,1)x(2,1,0,12) [intercept=True]; AIC=348.753, BIC=370.745, Time=5.016 seconds\n",
      "Near non-invertible roots for order (2, 1, 1)(2, 1, 0, 12); setting score to inf (at least one inverse root too close to the border of the unit circle: 0.999)\n",
      "Fit ARIMA(1,1,2)x(2,1,0,12) [intercept=True]; AIC=356.005, BIC=377.997, Time=2.116 seconds\n",
      "Fit ARIMA(0,1,0)x(2,1,0,12) [intercept=True]; AIC=473.966, BIC=486.533, Time=0.515 seconds\n",
      "Fit ARIMA(0,1,2)x(2,1,0,12) [intercept=True]; AIC=359.053, BIC=377.903, Time=1.409 seconds\n",
      "Fit ARIMA(2,1,0)x(2,1,0,12) [intercept=True]; AIC=360.106, BIC=378.956, Time=1.178 seconds\n",
      "Fit ARIMA(2,1,2)x(2,1,0,12) [intercept=True]; AIC=354.602, BIC=379.736, Time=2.806 seconds\n",
      "Total fit time: 42.878 seconds\n"
     ]
    }
   ],
   "source": [
    "model = pm.auto_arima(train,start_p=1,start_q=1,m=12,start_P=1,start_Q=1,max_P=5,max_Q=5,\\\n",
    "                      max_D=2,seasonal=True,trace=True,stepwise=True,suppress_warnings=True,error_action='ignore')"
   ]
  },
  {
   "cell_type": "code",
   "execution_count": 10,
   "metadata": {},
   "outputs": [
    {
     "name": "stdout",
     "output_type": "stream",
     "text": [
      "                                      SARIMAX Results                                      \n",
      "===========================================================================================\n",
      "Dep. Variable:                                   y   No. Observations:                  184\n",
      "Model:             SARIMAX(2, 1, 1)x(2, 1, [], 12)   Log Likelihood                -167.377\n",
      "Date:                             Tue, 18 Aug 2020   AIC                            348.753\n",
      "Time:                                     16:16:38   BIC                            370.745\n",
      "Sample:                                          0   HQIC                           357.677\n",
      "                                             - 184                                         \n",
      "Covariance Type:                               opg                                         \n",
      "==============================================================================\n",
      "                 coef    std err          z      P>|z|      [0.025      0.975]\n",
      "------------------------------------------------------------------------------\n",
      "intercept      0.0076      0.002      4.047      0.000       0.004       0.011\n",
      "ar.L1         -0.0528      0.060     -0.878      0.380      -0.171       0.065\n",
      "ar.L2          0.3446      0.084      4.096      0.000       0.180       0.510\n",
      "ma.L1         -0.9987      0.424     -2.357      0.018      -1.829      -0.168\n",
      "ar.S.L12      -0.2724      0.082     -3.304      0.001      -0.434      -0.111\n",
      "ar.S.L24      -0.3537      0.076     -4.677      0.000      -0.502      -0.205\n",
      "sigma2         0.3934      0.161      2.441      0.015       0.078       0.709\n",
      "===================================================================================\n",
      "Ljung-Box (Q):                       50.23   Jarque-Bera (JB):                18.91\n",
      "Prob(Q):                              0.13   Prob(JB):                         0.00\n",
      "Heteroskedasticity (H):               6.30   Skew:                            -0.11\n",
      "Prob(H) (two-sided):                  0.00   Kurtosis:                         4.61\n",
      "===================================================================================\n",
      "\n",
      "Warnings:\n",
      "[1] Covariance matrix calculated using the outer product of gradients (complex-step).\n"
     ]
    }
   ],
   "source": [
    "print(model.summary())"
   ]
  },
  {
   "cell_type": "markdown",
   "metadata": {},
   "source": [
    "### Forecast the Model using test samples (20)"
   ]
  },
  {
   "cell_type": "code",
   "execution_count": 11,
   "metadata": {},
   "outputs": [],
   "source": [
    "forecast = model.predict(n_periods=20,return_conf_int=True)"
   ]
  },
  {
   "cell_type": "code",
   "execution_count": 12,
   "metadata": {},
   "outputs": [
    {
     "data": {
      "text/plain": [
       "(array([18.99238762, 22.22091015, 23.87344157, 15.16513813, 17.11466798,\n",
       "        16.36446138, 19.13112807, 18.09885741, 19.01243325, 20.1194398 ,\n",
       "        18.88678261, 22.65104814, 21.06450757, 23.81021741, 25.41424813,\n",
       "        16.93077819, 18.5618279 , 18.50155948, 20.3550789 , 20.05817877]),\n",
       " array([[17.75993262, 20.22484262],\n",
       "        [20.98714557, 23.45467472],\n",
       "        [22.56506232, 25.18182082],\n",
       "        [13.85632839, 16.47394788],\n",
       "        [15.79617831, 18.43315764],\n",
       "        [15.04595251, 17.68297025],\n",
       "        [17.81113067, 20.45112547],\n",
       "        [16.7789035 , 19.41881132],\n",
       "        [17.69218859, 20.3326779 ],\n",
       "        [18.79922428, 21.43965532],\n",
       "        [17.56649221, 20.20707301],\n",
       "        [21.330771  , 23.97132528],\n",
       "        [19.46092382, 22.66809132],\n",
       "        [22.20640675, 25.41402808],\n",
       "        [23.7771539 , 27.05134236],\n",
       "        [15.29371582, 18.56784055],\n",
       "        [16.91989863, 20.20375717],\n",
       "        [16.859733  , 20.14338595],\n",
       "        [18.71235375, 21.99780405],\n",
       "        [18.41552191, 21.70083564]]))"
      ]
     },
     "execution_count": 12,
     "metadata": {},
     "output_type": "execute_result"
    }
   ],
   "source": [
    "forecast"
   ]
  },
  {
   "cell_type": "markdown",
   "metadata": {},
   "source": [
    "### Put the forecasts in a dataframe and concat with original sample"
   ]
  },
  {
   "cell_type": "code",
   "execution_count": 13,
   "metadata": {},
   "outputs": [],
   "source": [
    "forecast_df = pd.DataFrame(forecast[0],index=test.index,columns=['Prediction'])"
   ]
  },
  {
   "cell_type": "code",
   "execution_count": 14,
   "metadata": {},
   "outputs": [],
   "source": [
    "results = pd.concat([data['value'],forecast_df],axis=1)"
   ]
  },
  {
   "cell_type": "code",
   "execution_count": 15,
   "metadata": {},
   "outputs": [
    {
     "data": {
      "text/html": [
       "<div>\n",
       "<style scoped>\n",
       "    .dataframe tbody tr th:only-of-type {\n",
       "        vertical-align: middle;\n",
       "    }\n",
       "\n",
       "    .dataframe tbody tr th {\n",
       "        vertical-align: top;\n",
       "    }\n",
       "\n",
       "    .dataframe thead th {\n",
       "        text-align: right;\n",
       "    }\n",
       "</style>\n",
       "<table border=\"1\" class=\"dataframe\">\n",
       "  <thead>\n",
       "    <tr style=\"text-align: right;\">\n",
       "      <th></th>\n",
       "      <th>value</th>\n",
       "      <th>Prediction</th>\n",
       "    </tr>\n",
       "    <tr>\n",
       "      <th>date</th>\n",
       "      <th></th>\n",
       "      <th></th>\n",
       "    </tr>\n",
       "  </thead>\n",
       "  <tbody>\n",
       "    <tr>\n",
       "      <th>2006-06-01</th>\n",
       "      <td>16.291602</td>\n",
       "      <td>NaN</td>\n",
       "    </tr>\n",
       "    <tr>\n",
       "      <th>2006-07-01</th>\n",
       "      <td>16.980282</td>\n",
       "      <td>NaN</td>\n",
       "    </tr>\n",
       "    <tr>\n",
       "      <th>2006-08-01</th>\n",
       "      <td>18.612189</td>\n",
       "      <td>NaN</td>\n",
       "    </tr>\n",
       "    <tr>\n",
       "      <th>2006-09-01</th>\n",
       "      <td>16.623343</td>\n",
       "      <td>NaN</td>\n",
       "    </tr>\n",
       "    <tr>\n",
       "      <th>2006-10-01</th>\n",
       "      <td>21.430241</td>\n",
       "      <td>NaN</td>\n",
       "    </tr>\n",
       "    <tr>\n",
       "      <th>2006-11-01</th>\n",
       "      <td>23.575517</td>\n",
       "      <td>18.992388</td>\n",
       "    </tr>\n",
       "    <tr>\n",
       "      <th>2006-12-01</th>\n",
       "      <td>23.334206</td>\n",
       "      <td>22.220910</td>\n",
       "    </tr>\n",
       "    <tr>\n",
       "      <th>2007-01-01</th>\n",
       "      <td>28.038383</td>\n",
       "      <td>23.873442</td>\n",
       "    </tr>\n",
       "    <tr>\n",
       "      <th>2007-02-01</th>\n",
       "      <td>16.763869</td>\n",
       "      <td>15.165138</td>\n",
       "    </tr>\n",
       "    <tr>\n",
       "      <th>2007-03-01</th>\n",
       "      <td>19.792754</td>\n",
       "      <td>17.114668</td>\n",
       "    </tr>\n",
       "    <tr>\n",
       "      <th>2007-04-01</th>\n",
       "      <td>16.427305</td>\n",
       "      <td>16.364461</td>\n",
       "    </tr>\n",
       "    <tr>\n",
       "      <th>2007-05-01</th>\n",
       "      <td>21.000742</td>\n",
       "      <td>19.131128</td>\n",
       "    </tr>\n",
       "    <tr>\n",
       "      <th>2007-06-01</th>\n",
       "      <td>20.681002</td>\n",
       "      <td>18.098857</td>\n",
       "    </tr>\n",
       "    <tr>\n",
       "      <th>2007-07-01</th>\n",
       "      <td>21.834890</td>\n",
       "      <td>19.012433</td>\n",
       "    </tr>\n",
       "    <tr>\n",
       "      <th>2007-08-01</th>\n",
       "      <td>23.930204</td>\n",
       "      <td>20.119440</td>\n",
       "    </tr>\n",
       "    <tr>\n",
       "      <th>2007-09-01</th>\n",
       "      <td>22.930357</td>\n",
       "      <td>18.886783</td>\n",
       "    </tr>\n",
       "    <tr>\n",
       "      <th>2007-10-01</th>\n",
       "      <td>23.263340</td>\n",
       "      <td>22.651048</td>\n",
       "    </tr>\n",
       "    <tr>\n",
       "      <th>2007-11-01</th>\n",
       "      <td>25.250030</td>\n",
       "      <td>21.064508</td>\n",
       "    </tr>\n",
       "    <tr>\n",
       "      <th>2007-12-01</th>\n",
       "      <td>25.806090</td>\n",
       "      <td>23.810217</td>\n",
       "    </tr>\n",
       "    <tr>\n",
       "      <th>2008-01-01</th>\n",
       "      <td>29.665356</td>\n",
       "      <td>25.414248</td>\n",
       "    </tr>\n",
       "    <tr>\n",
       "      <th>2008-02-01</th>\n",
       "      <td>21.654285</td>\n",
       "      <td>16.930778</td>\n",
       "    </tr>\n",
       "    <tr>\n",
       "      <th>2008-03-01</th>\n",
       "      <td>18.264945</td>\n",
       "      <td>18.561828</td>\n",
       "    </tr>\n",
       "    <tr>\n",
       "      <th>2008-04-01</th>\n",
       "      <td>23.107677</td>\n",
       "      <td>18.501559</td>\n",
       "    </tr>\n",
       "    <tr>\n",
       "      <th>2008-05-01</th>\n",
       "      <td>22.912510</td>\n",
       "      <td>20.355079</td>\n",
       "    </tr>\n",
       "    <tr>\n",
       "      <th>2008-06-01</th>\n",
       "      <td>19.431740</td>\n",
       "      <td>20.058179</td>\n",
       "    </tr>\n",
       "  </tbody>\n",
       "</table>\n",
       "</div>"
      ],
      "text/plain": [
       "                value  Prediction\n",
       "date                             \n",
       "2006-06-01  16.291602         NaN\n",
       "2006-07-01  16.980282         NaN\n",
       "2006-08-01  18.612189         NaN\n",
       "2006-09-01  16.623343         NaN\n",
       "2006-10-01  21.430241         NaN\n",
       "2006-11-01  23.575517   18.992388\n",
       "2006-12-01  23.334206   22.220910\n",
       "2007-01-01  28.038383   23.873442\n",
       "2007-02-01  16.763869   15.165138\n",
       "2007-03-01  19.792754   17.114668\n",
       "2007-04-01  16.427305   16.364461\n",
       "2007-05-01  21.000742   19.131128\n",
       "2007-06-01  20.681002   18.098857\n",
       "2007-07-01  21.834890   19.012433\n",
       "2007-08-01  23.930204   20.119440\n",
       "2007-09-01  22.930357   18.886783\n",
       "2007-10-01  23.263340   22.651048\n",
       "2007-11-01  25.250030   21.064508\n",
       "2007-12-01  25.806090   23.810217\n",
       "2008-01-01  29.665356   25.414248\n",
       "2008-02-01  21.654285   16.930778\n",
       "2008-03-01  18.264945   18.561828\n",
       "2008-04-01  23.107677   18.501559\n",
       "2008-05-01  22.912510   20.355079\n",
       "2008-06-01  19.431740   20.058179"
      ]
     },
     "execution_count": 15,
     "metadata": {},
     "output_type": "execute_result"
    }
   ],
   "source": [
    "results.tail(25)"
   ]
  },
  {
   "cell_type": "code",
   "execution_count": 16,
   "metadata": {},
   "outputs": [
    {
     "name": "stderr",
     "output_type": "stream",
     "text": [
      "C:\\Users\\fobem\\Anaconda3\\lib\\site-packages\\pandas\\plotting\\_converter.py:129: FutureWarning: Using an implicitly registered datetime converter for a matplotlib plotting method. The converter was registered by pandas on import. Future versions of pandas will require you to explicitly register matplotlib converters.\n",
      "\n",
      "To register the converters:\n",
      "\t>>> from pandas.plotting import register_matplotlib_converters\n",
      "\t>>> register_matplotlib_converters()\n",
      "  warnings.warn(msg, FutureWarning)\n"
     ]
    },
    {
     "data": {
      "text/plain": [
       "Text(0, 0.5, 'values')"
      ]
     },
     "execution_count": 16,
     "metadata": {},
     "output_type": "execute_result"
    },
    {
     "data": {
      "image/png": "[encoded data removed]",
      "text/plain": [
       "<Figure size 1152x720 with 1 Axes>"
      ]
     },
     "metadata": {
      "needs_background": "light"
     },
     "output_type": "display_data"
    }
   ],
   "source": [
    "plt.figure(figsize=(16,10))\n",
    "plt.plot(results)\n",
    "plt.xlabel('Date')\n",
    "plt.ylabel('values')"
   ]
  },
  {
   "cell_type": "markdown",
   "metadata": {},
   "source": [
    "### Prepare a forecast for out of data date-range with 10 months out of date"
   ]
  },
  {
   "cell_type": "code",
   "execution_count": 17,
   "metadata": {},
   "outputs": [
    {
     "data": {
      "text/plain": [
       "(array([18.99238762, 22.22091015, 23.87344157, 15.16513813, 17.11466798,\n",
       "        16.36446138, 19.13112807, 18.09885741, 19.01243325, 20.1194398 ,\n",
       "        18.88678261, 22.65104814, 21.06450757, 23.81021741, 25.41424813,\n",
       "        16.93077819, 18.5618279 , 18.50155948, 20.3550789 , 20.05817877,\n",
       "        20.72144606, 22.01523972, 21.48388223, 23.62909397, 23.33814755,\n",
       "        25.32616793, 27.59177702, 18.26507424, 20.34038229, 19.93202064]),\n",
       " array([[17.75993262, 20.22484262],\n",
       "        [20.98714557, 23.45467472],\n",
       "        [22.56506232, 25.18182082],\n",
       "        [13.85632839, 16.47394788],\n",
       "        [15.79617831, 18.43315764],\n",
       "        [15.04595251, 17.68297025],\n",
       "        [17.81113067, 20.45112547],\n",
       "        [16.7789035 , 19.41881132],\n",
       "        [17.69218859, 20.3326779 ],\n",
       "        [18.79922428, 21.43965532],\n",
       "        [17.56649221, 20.20707301],\n",
       "        [21.330771  , 23.97132528],\n",
       "        [19.46092382, 22.66809132],\n",
       "        [22.20640675, 25.41402808],\n",
       "        [23.7771539 , 27.05134236],\n",
       "        [15.29371582, 18.56784055],\n",
       "        [16.91989863, 20.20375717],\n",
       "        [16.859733  , 20.14338595],\n",
       "        [18.71235375, 21.99780405],\n",
       "        [18.41552191, 21.70083564],\n",
       "        [19.07856938, 22.36432274],\n",
       "        [20.37239515, 23.6580843 ],\n",
       "        [19.84096915, 23.1267953 ],\n",
       "        [21.98619271, 25.27199522],\n",
       "        [21.59826298, 25.07803212],\n",
       "        [23.58640776, 27.0659281 ],\n",
       "        [25.83893737, 29.34461668],\n",
       "        [16.51238346, 20.01776502],\n",
       "        [18.58548904, 22.09527554],\n",
       "        [18.17723289, 21.68680838]]))"
      ]
     },
     "execution_count": 17,
     "metadata": {},
     "output_type": "execute_result"
    }
   ],
   "source": [
    "#Forecast for 30 periods\n",
    "\n",
    "forecast1 = model.predict(n_periods=30,return_conf_int=True)\n",
    "forecast1"
   ]
  },
  {
   "cell_type": "markdown",
   "metadata": {},
   "source": [
    "### Put the forecast in a dataframe and concat with original dataset"
   ]
  },
  {
   "cell_type": "code",
   "execution_count": 18,
   "metadata": {},
   "outputs": [],
   "source": [
    "forecast_range = pd.date_range(start='2006-11-01',periods=30,freq='MS')"
   ]
  },
  {
   "cell_type": "code",
   "execution_count": 19,
   "metadata": {},
   "outputs": [],
   "source": [
    "forecast1_df = pd.DataFrame(forecast1[0],index=forecast_range,columns=['Predictions'])"
   ]
  },
  {
   "cell_type": "code",
   "execution_count": 20,
   "metadata": {},
   "outputs": [
    {
     "data": {
      "text/html": [
       "<div>\n",
       "<style scoped>\n",
       "    .dataframe tbody tr th:only-of-type {\n",
       "        vertical-align: middle;\n",
       "    }\n",
       "\n",
       "    .dataframe tbody tr th {\n",
       "        vertical-align: top;\n",
       "    }\n",
       "\n",
       "    .dataframe thead th {\n",
       "        text-align: right;\n",
       "    }\n",
       "</style>\n",
       "<table border=\"1\" class=\"dataframe\">\n",
       "  <thead>\n",
       "    <tr style=\"text-align: right;\">\n",
       "      <th></th>\n",
       "      <th>Predictions</th>\n",
       "    </tr>\n",
       "  </thead>\n",
       "  <tbody>\n",
       "    <tr>\n",
       "      <th>2006-11-01</th>\n",
       "      <td>18.992388</td>\n",
       "    </tr>\n",
       "    <tr>\n",
       "      <th>2006-12-01</th>\n",
       "      <td>22.220910</td>\n",
       "    </tr>\n",
       "    <tr>\n",
       "      <th>2007-01-01</th>\n",
       "      <td>23.873442</td>\n",
       "    </tr>\n",
       "    <tr>\n",
       "      <th>2007-02-01</th>\n",
       "      <td>15.165138</td>\n",
       "    </tr>\n",
       "    <tr>\n",
       "      <th>2007-03-01</th>\n",
       "      <td>17.114668</td>\n",
       "    </tr>\n",
       "  </tbody>\n",
       "</table>\n",
       "</div>"
      ],
      "text/plain": [
       "            Predictions\n",
       "2006-11-01    18.992388\n",
       "2006-12-01    22.220910\n",
       "2007-01-01    23.873442\n",
       "2007-02-01    15.165138\n",
       "2007-03-01    17.114668"
      ]
     },
     "execution_count": 20,
     "metadata": {},
     "output_type": "execute_result"
    }
   ],
   "source": [
    "forecast1_df.head()"
   ]
  },
  {
   "cell_type": "code",
   "execution_count": 21,
   "metadata": {},
   "outputs": [
    {
     "data": {
      "text/html": [
       "<div>\n",
       "<style scoped>\n",
       "    .dataframe tbody tr th:only-of-type {\n",
       "        vertical-align: middle;\n",
       "    }\n",
       "\n",
       "    .dataframe tbody tr th {\n",
       "        vertical-align: top;\n",
       "    }\n",
       "\n",
       "    .dataframe thead th {\n",
       "        text-align: right;\n",
       "    }\n",
       "</style>\n",
       "<table border=\"1\" class=\"dataframe\">\n",
       "  <thead>\n",
       "    <tr style=\"text-align: right;\">\n",
       "      <th></th>\n",
       "      <th>Predictions</th>\n",
       "    </tr>\n",
       "  </thead>\n",
       "  <tbody>\n",
       "    <tr>\n",
       "      <th>2008-12-01</th>\n",
       "      <td>25.326168</td>\n",
       "    </tr>\n",
       "    <tr>\n",
       "      <th>2009-01-01</th>\n",
       "      <td>27.591777</td>\n",
       "    </tr>\n",
       "    <tr>\n",
       "      <th>2009-02-01</th>\n",
       "      <td>18.265074</td>\n",
       "    </tr>\n",
       "    <tr>\n",
       "      <th>2009-03-01</th>\n",
       "      <td>20.340382</td>\n",
       "    </tr>\n",
       "    <tr>\n",
       "      <th>2009-04-01</th>\n",
       "      <td>19.932021</td>\n",
       "    </tr>\n",
       "  </tbody>\n",
       "</table>\n",
       "</div>"
      ],
      "text/plain": [
       "            Predictions\n",
       "2008-12-01    25.326168\n",
       "2009-01-01    27.591777\n",
       "2009-02-01    18.265074\n",
       "2009-03-01    20.340382\n",
       "2009-04-01    19.932021"
      ]
     },
     "execution_count": 21,
     "metadata": {},
     "output_type": "execute_result"
    }
   ],
   "source": [
    "forecast1_df.tail()"
   ]
  },
  {
   "cell_type": "code",
   "execution_count": 22,
   "metadata": {},
   "outputs": [],
   "source": [
    "results2 = pd.concat([data.value,forecast1_df],axis=1)"
   ]
  },
  {
   "cell_type": "code",
   "execution_count": 23,
   "metadata": {},
   "outputs": [
    {
     "data": {
      "text/html": [
       "<div>\n",
       "<style scoped>\n",
       "    .dataframe tbody tr th:only-of-type {\n",
       "        vertical-align: middle;\n",
       "    }\n",
       "\n",
       "    .dataframe tbody tr th {\n",
       "        vertical-align: top;\n",
       "    }\n",
       "\n",
       "    .dataframe thead th {\n",
       "        text-align: right;\n",
       "    }\n",
       "</style>\n",
       "<table border=\"1\" class=\"dataframe\">\n",
       "  <thead>\n",
       "    <tr style=\"text-align: right;\">\n",
       "      <th></th>\n",
       "      <th>value</th>\n",
       "      <th>Predictions</th>\n",
       "    </tr>\n",
       "  </thead>\n",
       "  <tbody>\n",
       "    <tr>\n",
       "      <th>2006-06-01</th>\n",
       "      <td>16.291602</td>\n",
       "      <td>NaN</td>\n",
       "    </tr>\n",
       "    <tr>\n",
       "      <th>2006-07-01</th>\n",
       "      <td>16.980282</td>\n",
       "      <td>NaN</td>\n",
       "    </tr>\n",
       "    <tr>\n",
       "      <th>2006-08-01</th>\n",
       "      <td>18.612189</td>\n",
       "      <td>NaN</td>\n",
       "    </tr>\n",
       "    <tr>\n",
       "      <th>2006-09-01</th>\n",
       "      <td>16.623343</td>\n",
       "      <td>NaN</td>\n",
       "    </tr>\n",
       "    <tr>\n",
       "      <th>2006-10-01</th>\n",
       "      <td>21.430241</td>\n",
       "      <td>NaN</td>\n",
       "    </tr>\n",
       "    <tr>\n",
       "      <th>2006-11-01</th>\n",
       "      <td>23.575517</td>\n",
       "      <td>18.992388</td>\n",
       "    </tr>\n",
       "    <tr>\n",
       "      <th>2006-12-01</th>\n",
       "      <td>23.334206</td>\n",
       "      <td>22.220910</td>\n",
       "    </tr>\n",
       "    <tr>\n",
       "      <th>2007-01-01</th>\n",
       "      <td>28.038383</td>\n",
       "      <td>23.873442</td>\n",
       "    </tr>\n",
       "    <tr>\n",
       "      <th>2007-02-01</th>\n",
       "      <td>16.763869</td>\n",
       "      <td>15.165138</td>\n",
       "    </tr>\n",
       "    <tr>\n",
       "      <th>2007-03-01</th>\n",
       "      <td>19.792754</td>\n",
       "      <td>17.114668</td>\n",
       "    </tr>\n",
       "    <tr>\n",
       "      <th>2007-04-01</th>\n",
       "      <td>16.427305</td>\n",
       "      <td>16.364461</td>\n",
       "    </tr>\n",
       "    <tr>\n",
       "      <th>2007-05-01</th>\n",
       "      <td>21.000742</td>\n",
       "      <td>19.131128</td>\n",
       "    </tr>\n",
       "    <tr>\n",
       "      <th>2007-06-01</th>\n",
       "      <td>20.681002</td>\n",
       "      <td>18.098857</td>\n",
       "    </tr>\n",
       "    <tr>\n",
       "      <th>2007-07-01</th>\n",
       "      <td>21.834890</td>\n",
       "      <td>19.012433</td>\n",
       "    </tr>\n",
       "    <tr>\n",
       "      <th>2007-08-01</th>\n",
       "      <td>23.930204</td>\n",
       "      <td>20.119440</td>\n",
       "    </tr>\n",
       "    <tr>\n",
       "      <th>2007-09-01</th>\n",
       "      <td>22.930357</td>\n",
       "      <td>18.886783</td>\n",
       "    </tr>\n",
       "    <tr>\n",
       "      <th>2007-10-01</th>\n",
       "      <td>23.263340</td>\n",
       "      <td>22.651048</td>\n",
       "    </tr>\n",
       "    <tr>\n",
       "      <th>2007-11-01</th>\n",
       "      <td>25.250030</td>\n",
       "      <td>21.064508</td>\n",
       "    </tr>\n",
       "    <tr>\n",
       "      <th>2007-12-01</th>\n",
       "      <td>25.806090</td>\n",
       "      <td>23.810217</td>\n",
       "    </tr>\n",
       "    <tr>\n",
       "      <th>2008-01-01</th>\n",
       "      <td>29.665356</td>\n",
       "      <td>25.414248</td>\n",
       "    </tr>\n",
       "    <tr>\n",
       "      <th>2008-02-01</th>\n",
       "      <td>21.654285</td>\n",
       "      <td>16.930778</td>\n",
       "    </tr>\n",
       "    <tr>\n",
       "      <th>2008-03-01</th>\n",
       "      <td>18.264945</td>\n",
       "      <td>18.561828</td>\n",
       "    </tr>\n",
       "    <tr>\n",
       "      <th>2008-04-01</th>\n",
       "      <td>23.107677</td>\n",
       "      <td>18.501559</td>\n",
       "    </tr>\n",
       "    <tr>\n",
       "      <th>2008-05-01</th>\n",
       "      <td>22.912510</td>\n",
       "      <td>20.355079</td>\n",
       "    </tr>\n",
       "    <tr>\n",
       "      <th>2008-06-01</th>\n",
       "      <td>19.431740</td>\n",
       "      <td>20.058179</td>\n",
       "    </tr>\n",
       "    <tr>\n",
       "      <th>2008-07-01</th>\n",
       "      <td>NaN</td>\n",
       "      <td>20.721446</td>\n",
       "    </tr>\n",
       "    <tr>\n",
       "      <th>2008-08-01</th>\n",
       "      <td>NaN</td>\n",
       "      <td>22.015240</td>\n",
       "    </tr>\n",
       "    <tr>\n",
       "      <th>2008-09-01</th>\n",
       "      <td>NaN</td>\n",
       "      <td>21.483882</td>\n",
       "    </tr>\n",
       "    <tr>\n",
       "      <th>2008-10-01</th>\n",
       "      <td>NaN</td>\n",
       "      <td>23.629094</td>\n",
       "    </tr>\n",
       "    <tr>\n",
       "      <th>2008-11-01</th>\n",
       "      <td>NaN</td>\n",
       "      <td>23.338148</td>\n",
       "    </tr>\n",
       "    <tr>\n",
       "      <th>2008-12-01</th>\n",
       "      <td>NaN</td>\n",
       "      <td>25.326168</td>\n",
       "    </tr>\n",
       "    <tr>\n",
       "      <th>2009-01-01</th>\n",
       "      <td>NaN</td>\n",
       "      <td>27.591777</td>\n",
       "    </tr>\n",
       "    <tr>\n",
       "      <th>2009-02-01</th>\n",
       "      <td>NaN</td>\n",
       "      <td>18.265074</td>\n",
       "    </tr>\n",
       "    <tr>\n",
       "      <th>2009-03-01</th>\n",
       "      <td>NaN</td>\n",
       "      <td>20.340382</td>\n",
       "    </tr>\n",
       "    <tr>\n",
       "      <th>2009-04-01</th>\n",
       "      <td>NaN</td>\n",
       "      <td>19.932021</td>\n",
       "    </tr>\n",
       "  </tbody>\n",
       "</table>\n",
       "</div>"
      ],
      "text/plain": [
       "                value  Predictions\n",
       "2006-06-01  16.291602          NaN\n",
       "2006-07-01  16.980282          NaN\n",
       "2006-08-01  18.612189          NaN\n",
       "2006-09-01  16.623343          NaN\n",
       "2006-10-01  21.430241          NaN\n",
       "2006-11-01  23.575517    18.992388\n",
       "2006-12-01  23.334206    22.220910\n",
       "2007-01-01  28.038383    23.873442\n",
       "2007-02-01  16.763869    15.165138\n",
       "2007-03-01  19.792754    17.114668\n",
       "2007-04-01  16.427305    16.364461\n",
       "2007-05-01  21.000742    19.131128\n",
       "2007-06-01  20.681002    18.098857\n",
       "2007-07-01  21.834890    19.012433\n",
       "2007-08-01  23.930204    20.119440\n",
       "2007-09-01  22.930357    18.886783\n",
       "2007-10-01  23.263340    22.651048\n",
       "2007-11-01  25.250030    21.064508\n",
       "2007-12-01  25.806090    23.810217\n",
       "2008-01-01  29.665356    25.414248\n",
       "2008-02-01  21.654285    16.930778\n",
       "2008-03-01  18.264945    18.561828\n",
       "2008-04-01  23.107677    18.501559\n",
       "2008-05-01  22.912510    20.355079\n",
       "2008-06-01  19.431740    20.058179\n",
       "2008-07-01        NaN    20.721446\n",
       "2008-08-01        NaN    22.015240\n",
       "2008-09-01        NaN    21.483882\n",
       "2008-10-01        NaN    23.629094\n",
       "2008-11-01        NaN    23.338148\n",
       "2008-12-01        NaN    25.326168\n",
       "2009-01-01        NaN    27.591777\n",
       "2009-02-01        NaN    18.265074\n",
       "2009-03-01        NaN    20.340382\n",
       "2009-04-01        NaN    19.932021"
      ]
     },
     "execution_count": 23,
     "metadata": {},
     "output_type": "execute_result"
    }
   ],
   "source": [
    "results2.tail(35)"
   ]
  },
  {
   "cell_type": "markdown",
   "metadata": {},
   "source": [
    "### Plot the results"
   ]
  },
  {
   "cell_type": "code",
   "execution_count": 24,
   "metadata": {},
   "outputs": [],
   "source": [
    "lower = pd.Series(forecast1[1][:,0],index=forecast_range)\n",
    "upper = pd.Series(forecast1[1][:,1],index=forecast_range)"
   ]
  },
  {
   "cell_type": "code",
   "execution_count": 25,
   "metadata": {},
   "outputs": [
    {
     "data": {
      "text/plain": [
       "<matplotlib.collections.PolyCollection at 0x176446eec18>"
      ]
     },
     "execution_count": 25,
     "metadata": {},
     "output_type": "execute_result"
    },
    {
     "data": {
      "image/png": "[encoded data removed]",
      "text/plain": [
       "<Figure size 1152x720 with 1 Axes>"
      ]
     },
     "metadata": {
      "needs_background": "light"
     },
     "output_type": "display_data"
    }
   ],
   "source": [
    "plt.figure(figsize=(16,10))\n",
    "plt.plot(data['value'])\n",
    "plt.plot(forecast1_df,color = 'darkgreen')\n",
    "plt.fill_between(forecast_range,lower,upper,color='red',alpha=0.15)"
   ]
  },
  {
   "cell_type": "markdown",
   "metadata": {},
   "source": [
    "### Check the diagnostics"
   ]
  },
  {
   "cell_type": "code",
   "execution_count": 26,
   "metadata": {},
   "outputs": [
    {
     "data": {
      "image/png": "[encoded data removed]",
      "text/plain": [
       "<Figure size 432x288 with 4 Axes>"
      ]
     },
     "metadata": {
      "needs_background": "light"
     },
     "output_type": "display_data"
    }
   ],
   "source": [
    "out = model.plot_diagnostics()"
   ]
  },
  {
   "cell_type": "code",
   "execution_count": null,
   "metadata": {},
   "outputs": [],
   "source": []
  }
 ],
 "metadata": {
  "kernelspec": {
   "display_name": "Python 3",
   "language": "python",
   "name": "python3"
  },
  "language_info": {
   "codemirror_mode": {
    "name": "ipython",
    "version": 3
   },
   "file_extension": ".py",
   "mimetype": "text/x-python",
   "name": "python",
   "nbconvert_exporter": "python",
   "pygments_lexer": "ipython3",
   "version": "3.7.3"
  }
 },
 "nbformat": 4,
 "nbformat_minor": 2
}
