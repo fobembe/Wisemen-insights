{
  "nbformat": 4,
  "nbformat_minor": 0,
  "metadata": {
    "colab": {
      "name": "Logistic Regression in Spark.ipynb",
      "provenance": []
    },
    "kernelspec": {
      "name": "python3",
      "display_name": "Python 3"
    }
  },
  "cells": [
    {
      "cell_type": "code",
      "metadata": {
        "id": "6Ica3KNZKugv",
        "colab_type": "code",
        "colab": {
          "base_uri": "https://localhost:8080/",
          "height": 255
        },
        "outputId": "d6c13dd3-2645-49ae-8523-79f97c47c758"
      },
      "source": [
        "pip install pyspark"
      ],
      "execution_count": 1,
      "outputs": [
        {
          "output_type": "stream",
          "text": [
            "Collecting pyspark\n",
            "\u001b[?25l  Downloading https://files.pythonhosted.org/packages/f0/26/198fc8c0b98580f617cb03cb298c6056587b8f0447e20fa40c5b634ced77/pyspark-3.0.1.tar.gz (204.2MB)\n",
            "\u001b[K     |████████████████████████████████| 204.2MB 67kB/s \n",
            "\u001b[?25hCollecting py4j==0.10.9\n",
            "\u001b[?25l  Downloading https://files.pythonhosted.org/packages/9e/b6/6a4fb90cd235dc8e265a6a2067f2a2c99f0d91787f06aca4bcf7c23f3f80/py4j-0.10.9-py2.py3-none-any.whl (198kB)\n",
            "\u001b[K     |████████████████████████████████| 204kB 43.0MB/s \n",
            "\u001b[?25hBuilding wheels for collected packages: pyspark\n",
            "  Building wheel for pyspark (setup.py) ... \u001b[?25l\u001b[?25hdone\n",
            "  Created wheel for pyspark: filename=pyspark-3.0.1-py2.py3-none-any.whl size=204612243 sha256=58d69a435bd06b4fb08bd3501d525e052e05c782915da25d47cb9295ede0f407\n",
            "  Stored in directory: /root/.cache/pip/wheels/5e/bd/07/031766ca628adec8435bb40f0bd83bb676ce65ff4007f8e73f\n",
            "Successfully built pyspark\n",
            "Installing collected packages: py4j, pyspark\n",
            "Successfully installed py4j-0.10.9 pyspark-3.0.1\n"
          ],
          "name": "stdout"
        }
      ]
    },
    {
      "cell_type": "markdown",
      "metadata": {
        "id": "Pvl9zhCMaP30",
        "colab_type": "text"
      },
      "source": [
        "**LOGISTIC REGRESSION OF TITANIC DATASET IN SPARK**"
      ]
    },
    {
      "cell_type": "markdown",
      "metadata": {
        "id": "iv-3a-NOLU2u",
        "colab_type": "text"
      },
      "source": [
        "**Start a Spark Session**"
      ]
    },
    {
      "cell_type": "code",
      "metadata": {
        "id": "zZ_sJeNMLcfY",
        "colab_type": "code",
        "colab": {}
      },
      "source": [
        "from pyspark.sql import SparkSession\n",
        "spark = SparkSession.builder.appName('Titanic').getOrCreate()"
      ],
      "execution_count": 3,
      "outputs": []
    },
    {
      "cell_type": "code",
      "metadata": {
        "id": "bTixS9mgLmu_",
        "colab_type": "code",
        "colab": {
          "base_uri": "https://localhost:8080/",
          "height": 202
        },
        "outputId": "57c07ecf-0d36-45c6-c596-2eb6d8ef08e5"
      },
      "source": [
        "#Import the dataset\n",
        "\n",
        "df = spark.read.csv('titanic.csv',inferSchema=True,header=True)\n",
        "df.show(5)\n",
        "\n"
      ],
      "execution_count": 4,
      "outputs": [
        {
          "output_type": "stream",
          "text": [
            "+-----------+--------+------+--------------------+------+----+-----+-----+----------------+-------+-----+--------+\n",
            "|PassengerId|Survived|Pclass|                Name|   Sex| Age|SibSp|Parch|          Ticket|   Fare|Cabin|Embarked|\n",
            "+-----------+--------+------+--------------------+------+----+-----+-----+----------------+-------+-----+--------+\n",
            "|          1|       0|     3|Braund, Mr. Owen ...|  male|22.0|    1|    0|       A/5 21171|   7.25| null|       S|\n",
            "|          2|       1|     1|Cumings, Mrs. Joh...|female|38.0|    1|    0|        PC 17599|71.2833|  C85|       C|\n",
            "|          3|       1|     3|Heikkinen, Miss. ...|female|26.0|    0|    0|STON/O2. 3101282|  7.925| null|       S|\n",
            "|          4|       1|     1|Futrelle, Mrs. Ja...|female|35.0|    1|    0|          113803|   53.1| C123|       S|\n",
            "|          5|       0|     3|Allen, Mr. Willia...|  male|35.0|    0|    0|          373450|   8.05| null|       S|\n",
            "+-----------+--------+------+--------------------+------+----+-----+-----+----------------+-------+-----+--------+\n",
            "only showing top 5 rows\n",
            "\n"
          ],
          "name": "stdout"
        }
      ]
    },
    {
      "cell_type": "markdown",
      "metadata": {
        "id": "J9LW_fjgMbjF",
        "colab_type": "text"
      },
      "source": [
        "**Checking Information about the Data**"
      ]
    },
    {
      "cell_type": "code",
      "metadata": {
        "id": "1lSz_i4MMhJr",
        "colab_type": "code",
        "colab": {
          "base_uri": "https://localhost:8080/",
          "height": 34
        },
        "outputId": "3448c297-f594-4618-a3b2-4dc3464a7807"
      },
      "source": [
        "# Checking the number of rows in the dataset\n",
        "\n",
        "df.count()"
      ],
      "execution_count": 5,
      "outputs": [
        {
          "output_type": "execute_result",
          "data": {
            "text/plain": [
              "891"
            ]
          },
          "metadata": {
            "tags": []
          },
          "execution_count": 5
        }
      ]
    },
    {
      "cell_type": "code",
      "metadata": {
        "id": "XmgK1BCvMSSN",
        "colab_type": "code",
        "colab": {
          "base_uri": "https://localhost:8080/",
          "height": 218
        },
        "outputId": "03bca804-1447-430b-970d-ac747ede586c"
      },
      "source": [
        "# What are the names of the columns\n",
        "\n",
        "df.columns"
      ],
      "execution_count": 6,
      "outputs": [
        {
          "output_type": "execute_result",
          "data": {
            "text/plain": [
              "['PassengerId',\n",
              " 'Survived',\n",
              " 'Pclass',\n",
              " 'Name',\n",
              " 'Sex',\n",
              " 'Age',\n",
              " 'SibSp',\n",
              " 'Parch',\n",
              " 'Ticket',\n",
              " 'Fare',\n",
              " 'Cabin',\n",
              " 'Embarked']"
            ]
          },
          "metadata": {
            "tags": []
          },
          "execution_count": 6
        }
      ]
    },
    {
      "cell_type": "code",
      "metadata": {
        "id": "QBJ2BkSSMvWD",
        "colab_type": "code",
        "colab": {
          "base_uri": "https://localhost:8080/",
          "height": 205
        },
        "outputId": "c9e29f68-fc59-4148-f7b7-40198117befc"
      },
      "source": [
        "# Check descriptive statistics of the continous variables\n",
        "\n",
        "df.describe().show()"
      ],
      "execution_count": 7,
      "outputs": [
        {
          "output_type": "stream",
          "text": [
            "+-------+-----------------+-------------------+------------------+--------------------+------+------------------+------------------+-------------------+------------------+-----------------+-----+--------+\n",
            "|summary|      PassengerId|           Survived|            Pclass|                Name|   Sex|               Age|             SibSp|              Parch|            Ticket|             Fare|Cabin|Embarked|\n",
            "+-------+-----------------+-------------------+------------------+--------------------+------+------------------+------------------+-------------------+------------------+-----------------+-----+--------+\n",
            "|  count|              891|                891|               891|                 891|   891|               714|               891|                891|               891|              891|  204|     889|\n",
            "|   mean|            446.0| 0.3838383838383838| 2.308641975308642|                null|  null| 29.69911764705882|0.5230078563411896|0.38159371492704824|260318.54916792738| 32.2042079685746| null|    null|\n",
            "| stddev|257.3538420152301|0.48659245426485753|0.8360712409770491|                null|  null|14.526497332334035|1.1027434322934315| 0.8060572211299488|471609.26868834975|49.69342859718089| null|    null|\n",
            "|    min|                1|                  0|                 1|\"Andersson, Mr. A...|female|              0.42|                 0|                  0|            110152|              0.0|  A10|       C|\n",
            "|    max|              891|                  1|                 3|van Melkebeke, Mr...|  male|              80.0|                 8|                  6|         WE/P 5735|         512.3292|    T|       S|\n",
            "+-------+-----------------+-------------------+------------------+--------------------+------+------------------+------------------+-------------------+------------------+-----------------+-----+--------+\n",
            "\n"
          ],
          "name": "stdout"
        }
      ]
    },
    {
      "cell_type": "code",
      "metadata": {
        "id": "Sk_40gl8M-wj",
        "colab_type": "code",
        "colab": {
          "base_uri": "https://localhost:8080/",
          "height": 266
        },
        "outputId": "eabcc379-b8ee-40b1-db76-98d265f7f7e2"
      },
      "source": [
        "df.describe().toPandas()"
      ],
      "execution_count": 8,
      "outputs": [
        {
          "output_type": "execute_result",
          "data": {
            "text/html": [
              "<div>\n",
              "<style scoped>\n",
              "    .dataframe tbody tr th:only-of-type {\n",
              "        vertical-align: middle;\n",
              "    }\n",
              "\n",
              "    .dataframe tbody tr th {\n",
              "        vertical-align: top;\n",
              "    }\n",
              "\n",
              "    .dataframe thead th {\n",
              "        text-align: right;\n",
              "    }\n",
              "</style>\n",
              "<table border=\"1\" class=\"dataframe\">\n",
              "  <thead>\n",
              "    <tr style=\"text-align: right;\">\n",
              "      <th></th>\n",
              "      <th>summary</th>\n",
              "      <th>PassengerId</th>\n",
              "      <th>Survived</th>\n",
              "      <th>Pclass</th>\n",
              "      <th>Name</th>\n",
              "      <th>Sex</th>\n",
              "      <th>Age</th>\n",
              "      <th>SibSp</th>\n",
              "      <th>Parch</th>\n",
              "      <th>Ticket</th>\n",
              "      <th>Fare</th>\n",
              "      <th>Cabin</th>\n",
              "      <th>Embarked</th>\n",
              "    </tr>\n",
              "  </thead>\n",
              "  <tbody>\n",
              "    <tr>\n",
              "      <th>0</th>\n",
              "      <td>count</td>\n",
              "      <td>891</td>\n",
              "      <td>891</td>\n",
              "      <td>891</td>\n",
              "      <td>891</td>\n",
              "      <td>891</td>\n",
              "      <td>714</td>\n",
              "      <td>891</td>\n",
              "      <td>891</td>\n",
              "      <td>891</td>\n",
              "      <td>891</td>\n",
              "      <td>204</td>\n",
              "      <td>889</td>\n",
              "    </tr>\n",
              "    <tr>\n",
              "      <th>1</th>\n",
              "      <td>mean</td>\n",
              "      <td>446.0</td>\n",
              "      <td>0.3838383838383838</td>\n",
              "      <td>2.308641975308642</td>\n",
              "      <td>None</td>\n",
              "      <td>None</td>\n",
              "      <td>29.69911764705882</td>\n",
              "      <td>0.5230078563411896</td>\n",
              "      <td>0.38159371492704824</td>\n",
              "      <td>260318.54916792738</td>\n",
              "      <td>32.2042079685746</td>\n",
              "      <td>None</td>\n",
              "      <td>None</td>\n",
              "    </tr>\n",
              "    <tr>\n",
              "      <th>2</th>\n",
              "      <td>stddev</td>\n",
              "      <td>257.3538420152301</td>\n",
              "      <td>0.48659245426485753</td>\n",
              "      <td>0.8360712409770491</td>\n",
              "      <td>None</td>\n",
              "      <td>None</td>\n",
              "      <td>14.526497332334035</td>\n",
              "      <td>1.1027434322934315</td>\n",
              "      <td>0.8060572211299488</td>\n",
              "      <td>471609.26868834975</td>\n",
              "      <td>49.69342859718089</td>\n",
              "      <td>None</td>\n",
              "      <td>None</td>\n",
              "    </tr>\n",
              "    <tr>\n",
              "      <th>3</th>\n",
              "      <td>min</td>\n",
              "      <td>1</td>\n",
              "      <td>0</td>\n",
              "      <td>1</td>\n",
              "      <td>\"Andersson, Mr. August Edvard (\"\"Wennerstrom\"\")\"</td>\n",
              "      <td>female</td>\n",
              "      <td>0.42</td>\n",
              "      <td>0</td>\n",
              "      <td>0</td>\n",
              "      <td>110152</td>\n",
              "      <td>0.0</td>\n",
              "      <td>A10</td>\n",
              "      <td>C</td>\n",
              "    </tr>\n",
              "    <tr>\n",
              "      <th>4</th>\n",
              "      <td>max</td>\n",
              "      <td>891</td>\n",
              "      <td>1</td>\n",
              "      <td>3</td>\n",
              "      <td>van Melkebeke, Mr. Philemon</td>\n",
              "      <td>male</td>\n",
              "      <td>80.0</td>\n",
              "      <td>8</td>\n",
              "      <td>6</td>\n",
              "      <td>WE/P 5735</td>\n",
              "      <td>512.3292</td>\n",
              "      <td>T</td>\n",
              "      <td>S</td>\n",
              "    </tr>\n",
              "  </tbody>\n",
              "</table>\n",
              "</div>"
            ],
            "text/plain": [
              "  summary        PassengerId  ... Cabin Embarked\n",
              "0   count                891  ...   204      889\n",
              "1    mean              446.0  ...  None     None\n",
              "2  stddev  257.3538420152301  ...  None     None\n",
              "3     min                  1  ...   A10        C\n",
              "4     max                891  ...     T        S\n",
              "\n",
              "[5 rows x 13 columns]"
            ]
          },
          "metadata": {
            "tags": []
          },
          "execution_count": 8
        }
      ]
    },
    {
      "cell_type": "code",
      "metadata": {
        "id": "i6urA2awNFBo",
        "colab_type": "code",
        "colab": {
          "base_uri": "https://localhost:8080/",
          "height": 218
        },
        "outputId": "bc6d2009-2411-4721-a925-b58a7bc473dd"
      },
      "source": [
        "# Check the column data types\n",
        "\n",
        "df.dtypes"
      ],
      "execution_count": 9,
      "outputs": [
        {
          "output_type": "execute_result",
          "data": {
            "text/plain": [
              "[('PassengerId', 'int'),\n",
              " ('Survived', 'int'),\n",
              " ('Pclass', 'int'),\n",
              " ('Name', 'string'),\n",
              " ('Sex', 'string'),\n",
              " ('Age', 'double'),\n",
              " ('SibSp', 'int'),\n",
              " ('Parch', 'int'),\n",
              " ('Ticket', 'string'),\n",
              " ('Fare', 'double'),\n",
              " ('Cabin', 'string'),\n",
              " ('Embarked', 'string')]"
            ]
          },
          "metadata": {
            "tags": []
          },
          "execution_count": 9
        }
      ]
    },
    {
      "cell_type": "markdown",
      "metadata": {
        "id": "IfCKtbSyNmTw",
        "colab_type": "text"
      },
      "source": [
        "**Data Preparation and Feature Engineering**"
      ]
    },
    {
      "cell_type": "code",
      "metadata": {
        "id": "PCJckDzuOYGO",
        "colab_type": "code",
        "colab": {}
      },
      "source": [
        "#Select the necessary columns\n",
        "from pyspark.sql.functions import isnull,when,count,col"
      ],
      "execution_count": 10,
      "outputs": []
    },
    {
      "cell_type": "code",
      "metadata": {
        "id": "OctvRzXvO1SP",
        "colab_type": "code",
        "colab": {
          "base_uri": "https://localhost:8080/",
          "height": 454
        },
        "outputId": "3de454eb-df18-416f-85e0-b8fd5290fed3"
      },
      "source": [
        "dataset = df.select(['Survived','Pclass','Sex','Age','Fare','Embarked'])\n",
        "dataset.show()"
      ],
      "execution_count": 11,
      "outputs": [
        {
          "output_type": "stream",
          "text": [
            "+--------+------+------+----+-------+--------+\n",
            "|Survived|Pclass|   Sex| Age|   Fare|Embarked|\n",
            "+--------+------+------+----+-------+--------+\n",
            "|       0|     3|  male|22.0|   7.25|       S|\n",
            "|       1|     1|female|38.0|71.2833|       C|\n",
            "|       1|     3|female|26.0|  7.925|       S|\n",
            "|       1|     1|female|35.0|   53.1|       S|\n",
            "|       0|     3|  male|35.0|   8.05|       S|\n",
            "|       0|     3|  male|null| 8.4583|       Q|\n",
            "|       0|     1|  male|54.0|51.8625|       S|\n",
            "|       0|     3|  male| 2.0| 21.075|       S|\n",
            "|       1|     3|female|27.0|11.1333|       S|\n",
            "|       1|     2|female|14.0|30.0708|       C|\n",
            "|       1|     3|female| 4.0|   16.7|       S|\n",
            "|       1|     1|female|58.0|  26.55|       S|\n",
            "|       0|     3|  male|20.0|   8.05|       S|\n",
            "|       0|     3|  male|39.0| 31.275|       S|\n",
            "|       0|     3|female|14.0| 7.8542|       S|\n",
            "|       1|     2|female|55.0|   16.0|       S|\n",
            "|       0|     3|  male| 2.0| 29.125|       Q|\n",
            "|       1|     2|  male|null|   13.0|       S|\n",
            "|       0|     3|female|31.0|   18.0|       S|\n",
            "|       1|     3|female|null|  7.225|       C|\n",
            "+--------+------+------+----+-------+--------+\n",
            "only showing top 20 rows\n",
            "\n"
          ],
          "name": "stdout"
        }
      ]
    },
    {
      "cell_type": "code",
      "metadata": {
        "id": "b6218IBVPbwm",
        "colab_type": "code",
        "colab": {
          "base_uri": "https://localhost:8080/",
          "height": 118
        },
        "outputId": "e870be24-e122-4b49-d864-cdaf4dee952f"
      },
      "source": [
        "#Check for the missing data\n",
        "\n",
        "dataset.select([count(when(isnull(c),c)).alias(c) for c in dataset.columns]).show()"
      ],
      "execution_count": 12,
      "outputs": [
        {
          "output_type": "stream",
          "text": [
            "+--------+------+---+---+----+--------+\n",
            "|Survived|Pclass|Sex|Age|Fare|Embarked|\n",
            "+--------+------+---+---+----+--------+\n",
            "|       0|     0|  0|177|   0|       2|\n",
            "+--------+------+---+---+----+--------+\n",
            "\n"
          ],
          "name": "stdout"
        }
      ]
    },
    {
      "cell_type": "code",
      "metadata": {
        "id": "gg_47a3mQDEq",
        "colab_type": "code",
        "colab": {}
      },
      "source": [
        "#Drop the missing values\n",
        "\n",
        "data = dataset.replace('null',None).dropna(how='any')"
      ],
      "execution_count": 14,
      "outputs": []
    },
    {
      "cell_type": "code",
      "metadata": {
        "id": "E58QmPF2Qa7b",
        "colab_type": "code",
        "colab": {
          "base_uri": "https://localhost:8080/",
          "height": 118
        },
        "outputId": "ad41c123-9083-40ad-a690-23e65d4d2201"
      },
      "source": [
        "data.select([count(when(isnull(c),c)).alias(c) for c in data.columns]).show()"
      ],
      "execution_count": 15,
      "outputs": [
        {
          "output_type": "stream",
          "text": [
            "+--------+------+---+---+----+--------+\n",
            "|Survived|Pclass|Sex|Age|Fare|Embarked|\n",
            "+--------+------+---+---+----+--------+\n",
            "|       0|     0|  0|  0|   0|       0|\n",
            "+--------+------+---+---+----+--------+\n",
            "\n"
          ],
          "name": "stdout"
        }
      ]
    },
    {
      "cell_type": "markdown",
      "metadata": {
        "id": "MYHtgqrXQxSi",
        "colab_type": "text"
      },
      "source": [
        "**Index Categorical Variables with StringIndexer**"
      ]
    },
    {
      "cell_type": "code",
      "metadata": {
        "id": "Vy2pxKmAQ6b_",
        "colab_type": "code",
        "colab": {}
      },
      "source": [
        "from pyspark.ml.feature import StringIndexer"
      ],
      "execution_count": 16,
      "outputs": []
    },
    {
      "cell_type": "code",
      "metadata": {
        "id": "fNPALmm1RHWY",
        "colab_type": "code",
        "colab": {
          "base_uri": "https://localhost:8080/",
          "height": 454
        },
        "outputId": "8c54fd2a-8850-4d07-c34d-2f358b375a80"
      },
      "source": [
        "data = StringIndexer(inputCol='Sex',outputCol='Gender',handleInvalid='keep').fit(data).transform(data)\n",
        "data = StringIndexer(inputCol='Embarked',outputCol='Boarded',handleInvalid='keep').fit(data).transform(data)\n",
        "data.show()"
      ],
      "execution_count": 18,
      "outputs": [
        {
          "output_type": "stream",
          "text": [
            "+--------+------+------+----+-------+--------+------+-------+\n",
            "|Survived|Pclass|   Sex| Age|   Fare|Embarked|Gender|Boarded|\n",
            "+--------+------+------+----+-------+--------+------+-------+\n",
            "|       0|     3|  male|22.0|   7.25|       S|   0.0|    0.0|\n",
            "|       1|     1|female|38.0|71.2833|       C|   1.0|    1.0|\n",
            "|       1|     3|female|26.0|  7.925|       S|   1.0|    0.0|\n",
            "|       1|     1|female|35.0|   53.1|       S|   1.0|    0.0|\n",
            "|       0|     3|  male|35.0|   8.05|       S|   0.0|    0.0|\n",
            "|       0|     1|  male|54.0|51.8625|       S|   0.0|    0.0|\n",
            "|       0|     3|  male| 2.0| 21.075|       S|   0.0|    0.0|\n",
            "|       1|     3|female|27.0|11.1333|       S|   1.0|    0.0|\n",
            "|       1|     2|female|14.0|30.0708|       C|   1.0|    1.0|\n",
            "|       1|     3|female| 4.0|   16.7|       S|   1.0|    0.0|\n",
            "|       1|     1|female|58.0|  26.55|       S|   1.0|    0.0|\n",
            "|       0|     3|  male|20.0|   8.05|       S|   0.0|    0.0|\n",
            "|       0|     3|  male|39.0| 31.275|       S|   0.0|    0.0|\n",
            "|       0|     3|female|14.0| 7.8542|       S|   1.0|    0.0|\n",
            "|       1|     2|female|55.0|   16.0|       S|   1.0|    0.0|\n",
            "|       0|     3|  male| 2.0| 29.125|       Q|   0.0|    2.0|\n",
            "|       0|     3|female|31.0|   18.0|       S|   1.0|    0.0|\n",
            "|       0|     2|  male|35.0|   26.0|       S|   0.0|    0.0|\n",
            "|       1|     2|  male|34.0|   13.0|       S|   0.0|    0.0|\n",
            "|       1|     3|female|15.0| 8.0292|       Q|   1.0|    2.0|\n",
            "+--------+------+------+----+-------+--------+------+-------+\n",
            "only showing top 20 rows\n",
            "\n"
          ],
          "name": "stdout"
        }
      ]
    },
    {
      "cell_type": "code",
      "metadata": {
        "id": "vr1v9bn7R0mq",
        "colab_type": "code",
        "colab": {
          "base_uri": "https://localhost:8080/",
          "height": 151
        },
        "outputId": "078cce44-daae-4374-b772-74ce9dbeef4f"
      },
      "source": [
        "#Check data types\n",
        "\n",
        "data.dtypes"
      ],
      "execution_count": 19,
      "outputs": [
        {
          "output_type": "execute_result",
          "data": {
            "text/plain": [
              "[('Survived', 'int'),\n",
              " ('Pclass', 'int'),\n",
              " ('Sex', 'string'),\n",
              " ('Age', 'double'),\n",
              " ('Fare', 'double'),\n",
              " ('Embarked', 'string'),\n",
              " ('Gender', 'double'),\n",
              " ('Boarded', 'double')]"
            ]
          },
          "metadata": {
            "tags": []
          },
          "execution_count": 19
        }
      ]
    },
    {
      "cell_type": "code",
      "metadata": {
        "id": "qIpQL2czSJsH",
        "colab_type": "code",
        "colab": {
          "base_uri": "https://localhost:8080/",
          "height": 454
        },
        "outputId": "7d315cbe-7e67-41df-f7b5-805bf197b231"
      },
      "source": [
        "#Drop unnecessary columns\n",
        "\n",
        "data = data.drop('Sex','Embarked')\n",
        "data.show()"
      ],
      "execution_count": 21,
      "outputs": [
        {
          "output_type": "stream",
          "text": [
            "+--------+------+----+-------+------+-------+\n",
            "|Survived|Pclass| Age|   Fare|Gender|Boarded|\n",
            "+--------+------+----+-------+------+-------+\n",
            "|       0|     3|22.0|   7.25|   0.0|    0.0|\n",
            "|       1|     1|38.0|71.2833|   1.0|    1.0|\n",
            "|       1|     3|26.0|  7.925|   1.0|    0.0|\n",
            "|       1|     1|35.0|   53.1|   1.0|    0.0|\n",
            "|       0|     3|35.0|   8.05|   0.0|    0.0|\n",
            "|       0|     1|54.0|51.8625|   0.0|    0.0|\n",
            "|       0|     3| 2.0| 21.075|   0.0|    0.0|\n",
            "|       1|     3|27.0|11.1333|   1.0|    0.0|\n",
            "|       1|     2|14.0|30.0708|   1.0|    1.0|\n",
            "|       1|     3| 4.0|   16.7|   1.0|    0.0|\n",
            "|       1|     1|58.0|  26.55|   1.0|    0.0|\n",
            "|       0|     3|20.0|   8.05|   0.0|    0.0|\n",
            "|       0|     3|39.0| 31.275|   0.0|    0.0|\n",
            "|       0|     3|14.0| 7.8542|   1.0|    0.0|\n",
            "|       1|     2|55.0|   16.0|   1.0|    0.0|\n",
            "|       0|     3| 2.0| 29.125|   0.0|    2.0|\n",
            "|       0|     3|31.0|   18.0|   1.0|    0.0|\n",
            "|       0|     2|35.0|   26.0|   0.0|    0.0|\n",
            "|       1|     2|34.0|   13.0|   0.0|    0.0|\n",
            "|       1|     3|15.0| 8.0292|   1.0|    2.0|\n",
            "+--------+------+----+-------+------+-------+\n",
            "only showing top 20 rows\n",
            "\n"
          ],
          "name": "stdout"
        }
      ]
    },
    {
      "cell_type": "markdown",
      "metadata": {
        "id": "fDGPWxeVSs86",
        "colab_type": "text"
      },
      "source": [
        "**Assemble all the features using Assembler object**"
      ]
    },
    {
      "cell_type": "code",
      "metadata": {
        "id": "K45jw6pHS1Dm",
        "colab_type": "code",
        "colab": {}
      },
      "source": [
        "required_features = 'Pclass','Age','Fare','Gender','Boarded'\n",
        "from pyspark.ml.feature import VectorAssembler\n",
        "assembler = VectorAssembler(inputCols=required_features,outputCol='features')\n",
        "transformed_data = assembler.transform(data)"
      ],
      "execution_count": 23,
      "outputs": []
    },
    {
      "cell_type": "code",
      "metadata": {
        "id": "FKxRr51gTjN0",
        "colab_type": "code",
        "colab": {
          "base_uri": "https://localhost:8080/",
          "height": 454
        },
        "outputId": "321d92dd-ecef-47ee-82fc-88bfcc7bb2a3"
      },
      "source": [
        "transformed_data.show()"
      ],
      "execution_count": 24,
      "outputs": [
        {
          "output_type": "stream",
          "text": [
            "+--------+------+----+-------+------+-------+--------------------+\n",
            "|Survived|Pclass| Age|   Fare|Gender|Boarded|            features|\n",
            "+--------+------+----+-------+------+-------+--------------------+\n",
            "|       0|     3|22.0|   7.25|   0.0|    0.0|[3.0,22.0,7.25,0....|\n",
            "|       1|     1|38.0|71.2833|   1.0|    1.0|[1.0,38.0,71.2833...|\n",
            "|       1|     3|26.0|  7.925|   1.0|    0.0|[3.0,26.0,7.925,1...|\n",
            "|       1|     1|35.0|   53.1|   1.0|    0.0|[1.0,35.0,53.1,1....|\n",
            "|       0|     3|35.0|   8.05|   0.0|    0.0|[3.0,35.0,8.05,0....|\n",
            "|       0|     1|54.0|51.8625|   0.0|    0.0|[1.0,54.0,51.8625...|\n",
            "|       0|     3| 2.0| 21.075|   0.0|    0.0|[3.0,2.0,21.075,0...|\n",
            "|       1|     3|27.0|11.1333|   1.0|    0.0|[3.0,27.0,11.1333...|\n",
            "|       1|     2|14.0|30.0708|   1.0|    1.0|[2.0,14.0,30.0708...|\n",
            "|       1|     3| 4.0|   16.7|   1.0|    0.0|[3.0,4.0,16.7,1.0...|\n",
            "|       1|     1|58.0|  26.55|   1.0|    0.0|[1.0,58.0,26.55,1...|\n",
            "|       0|     3|20.0|   8.05|   0.0|    0.0|[3.0,20.0,8.05,0....|\n",
            "|       0|     3|39.0| 31.275|   0.0|    0.0|[3.0,39.0,31.275,...|\n",
            "|       0|     3|14.0| 7.8542|   1.0|    0.0|[3.0,14.0,7.8542,...|\n",
            "|       1|     2|55.0|   16.0|   1.0|    0.0|[2.0,55.0,16.0,1....|\n",
            "|       0|     3| 2.0| 29.125|   0.0|    2.0|[3.0,2.0,29.125,0...|\n",
            "|       0|     3|31.0|   18.0|   1.0|    0.0|[3.0,31.0,18.0,1....|\n",
            "|       0|     2|35.0|   26.0|   0.0|    0.0|[2.0,35.0,26.0,0....|\n",
            "|       1|     2|34.0|   13.0|   0.0|    0.0|[2.0,34.0,13.0,0....|\n",
            "|       1|     3|15.0| 8.0292|   1.0|    2.0|[3.0,15.0,8.0292,...|\n",
            "+--------+------+----+-------+------+-------+--------------------+\n",
            "only showing top 20 rows\n",
            "\n"
          ],
          "name": "stdout"
        }
      ]
    },
    {
      "cell_type": "markdown",
      "metadata": {
        "id": "wQyG0OQkT1OB",
        "colab_type": "text"
      },
      "source": [
        "**Modelling**"
      ]
    },
    {
      "cell_type": "code",
      "metadata": {
        "id": "U5ncCnO7T5A0",
        "colab_type": "code",
        "colab": {}
      },
      "source": [
        "#Split the data into train and test sets\n",
        "\n",
        "train_df,test_df = transformed_data.randomSplit([0.7,0.3])"
      ],
      "execution_count": 25,
      "outputs": []
    },
    {
      "cell_type": "code",
      "metadata": {
        "id": "LVEkx8aXUZlX",
        "colab_type": "code",
        "colab": {}
      },
      "source": [
        "#Define the Model\n",
        "\n",
        "from pyspark.ml.classification import LogisticRegression\n",
        "lr = LogisticRegression(labelCol='Survived',featuresCol='features')"
      ],
      "execution_count": 26,
      "outputs": []
    },
    {
      "cell_type": "code",
      "metadata": {
        "id": "tHFWbxNtVjaH",
        "colab_type": "code",
        "colab": {}
      },
      "source": [
        "#Fit the model\n",
        "\n",
        "model = lr.fit(train_df)"
      ],
      "execution_count": 27,
      "outputs": []
    },
    {
      "cell_type": "code",
      "metadata": {
        "id": "zuQ3-v-cVxdf",
        "colab_type": "code",
        "colab": {}
      },
      "source": [
        "#Predict with the test dataset\n",
        "\n",
        "predictions = model.transform(test_df)"
      ],
      "execution_count": 28,
      "outputs": []
    },
    {
      "cell_type": "code",
      "metadata": {
        "id": "dVQy2nP-WBF-",
        "colab_type": "code",
        "colab": {
          "base_uri": "https://localhost:8080/",
          "height": 454
        },
        "outputId": "256478d4-7759-40bf-dabb-634d71f9fb06"
      },
      "source": [
        "predictions.show()"
      ],
      "execution_count": 29,
      "outputs": [
        {
          "output_type": "stream",
          "text": [
            "+--------+------+----+-------+------+-------+--------------------+--------------------+--------------------+----------+\n",
            "|Survived|Pclass| Age|   Fare|Gender|Boarded|            features|       rawPrediction|         probability|prediction|\n",
            "+--------+------+----+-------+------+-------+--------------------+--------------------+--------------------+----------+\n",
            "|       0|     1| 2.0| 151.55|   1.0|    0.0|[1.0,2.0,151.55,1...|[-3.9346068971753...|[0.01917838203319...|       1.0|\n",
            "|       0|     1|18.0|  108.9|   0.0|    1.0|[1.0,18.0,108.9,0...|[-1.1731684861228...|[0.23628274310936...|       1.0|\n",
            "|       0|     1|19.0|  263.0|   0.0|    0.0|[1.0,19.0,263.0,0...|[-0.7911731920810...|[0.31191681785515...|       1.0|\n",
            "|       0|     1|29.0|   30.0|   0.0|    0.0|[1.0,29.0,30.0,0....|[-0.3122663739815...|[0.42256163930216...|       1.0|\n",
            "|       0|     1|29.0|   66.6|   0.0|    0.0|[1.0,29.0,66.6,0....|[-0.3166126611876...|[0.42150148936271...|       1.0|\n",
            "|       0|     1|30.0|  27.75|   0.0|    1.0|[1.0,30.0,27.75,0...|[-0.6220464436397...|[0.34931616296855...|       1.0|\n",
            "|       0|     1|31.0|50.4958|   0.0|    0.0|[1.0,31.0,50.4958...|[-0.2244527048185...|[0.44412122022009...|       1.0|\n",
            "|       0|     1|38.0|    0.0|   0.0|    0.0|(5,[0,1],[1.0,38.0])|[0.09741020463216...|[0.52433331314394...|       0.0|\n",
            "|       0|     1|40.0|27.7208|   0.0|    1.0|[1.0,40.0,27.7208...|[-0.1708051448690...|[0.45740222715739...|       1.0|\n",
            "|       0|     1|45.0|   35.5|   0.0|    0.0|[1.0,45.0,35.5,0....|[0.40906102541301...|[0.60086270900052...|       0.0|\n",
            "|       0|     1|47.0|34.0208|   0.0|    0.0|[1.0,47.0,34.0208...|[0.49948424816491...|[0.62233811995318...|       0.0|\n",
            "|       0|     1|47.0|   52.0|   0.0|    0.0|[1.0,47.0,52.0,0....|[0.49734919988798...|[0.62183618141622...|       0.0|\n",
            "|       0|     1|50.0|   55.9|   0.0|    0.0|[1.0,50.0,55.9,0....|[0.63225742029570...|[0.65300114903439...|       0.0|\n",
            "|       0|     1|51.0|61.3792|   0.0|    1.0|[1.0,51.0,61.3792...|[0.32155950028032...|[0.57970426723031...|       0.0|\n",
            "|       0|     1|54.0|51.8625|   0.0|    0.0|[1.0,54.0,51.8625...|[0.81323201002148...|[0.69279779808541...|       0.0|\n",
            "|       0|     1|56.0|  26.55|   0.0|    0.0|[1.0,56.0,26.55,0...|[0.90648546137635...|[0.71228044140223...|       0.0|\n",
            "|       0|     1|56.0|30.6958|   0.0|    1.0|[1.0,56.0,30.6958...|[0.55082210084234...|[0.63432630364853...|       0.0|\n",
            "|       0|     1|58.0|   29.7|   0.0|    1.0|[1.0,58.0,29.7,0....|[0.64118791935284...|[0.65502194201148...|       0.0|\n",
            "|       0|     1|61.0|32.3208|   0.0|    0.0|[1.0,61.0,32.3208...|[1.13141908863050...|[0.75610069178485...|       0.0|\n",
            "|       0|     1|61.0|   33.5|   0.0|    0.0|[1.0,61.0,33.5,0....|[1.13127905743178...|[0.75607486736434...|       0.0|\n",
            "+--------+------+----+-------+------+-------+--------------------+--------------------+--------------------+----------+\n",
            "only showing top 20 rows\n",
            "\n"
          ],
          "name": "stdout"
        }
      ]
    },
    {
      "cell_type": "code",
      "metadata": {
        "id": "jYlBBqVvWGmW",
        "colab_type": "code",
        "colab": {}
      },
      "source": [
        "#Evaluate the model\n",
        "from pyspark.ml.evaluation import BinaryClassificationEvaluator\n",
        "evaluator = BinaryClassificationEvaluator(labelCol='Survived',rawPredictionCol='prediction')"
      ],
      "execution_count": 31,
      "outputs": []
    },
    {
      "cell_type": "code",
      "metadata": {
        "id": "tBfYoq5HXNwC",
        "colab_type": "code",
        "colab": {
          "base_uri": "https://localhost:8080/",
          "height": 454
        },
        "outputId": "4bcb2cf9-b49a-476a-8838-82307d4ea9b0"
      },
      "source": [
        "predictions.select('Survived','prediction').show()"
      ],
      "execution_count": 32,
      "outputs": [
        {
          "output_type": "stream",
          "text": [
            "+--------+----------+\n",
            "|Survived|prediction|\n",
            "+--------+----------+\n",
            "|       0|       1.0|\n",
            "|       0|       1.0|\n",
            "|       0|       1.0|\n",
            "|       0|       1.0|\n",
            "|       0|       1.0|\n",
            "|       0|       1.0|\n",
            "|       0|       1.0|\n",
            "|       0|       0.0|\n",
            "|       0|       1.0|\n",
            "|       0|       0.0|\n",
            "|       0|       0.0|\n",
            "|       0|       0.0|\n",
            "|       0|       0.0|\n",
            "|       0|       0.0|\n",
            "|       0|       0.0|\n",
            "|       0|       0.0|\n",
            "|       0|       0.0|\n",
            "|       0|       0.0|\n",
            "|       0|       0.0|\n",
            "|       0|       0.0|\n",
            "+--------+----------+\n",
            "only showing top 20 rows\n",
            "\n"
          ],
          "name": "stdout"
        }
      ]
    },
    {
      "cell_type": "code",
      "metadata": {
        "id": "205nseQYX02r",
        "colab_type": "code",
        "colab": {
          "base_uri": "https://localhost:8080/",
          "height": 34
        },
        "outputId": "623eeb7e-9614-48b3-e6e8-4f0215c0ac18"
      },
      "source": [
        "AUC = evaluator.evaluate(predictions)\n",
        "AUC"
      ],
      "execution_count": 33,
      "outputs": [
        {
          "output_type": "execute_result",
          "data": {
            "text/plain": [
              "0.80139853001225"
            ]
          },
          "metadata": {
            "tags": []
          },
          "execution_count": 33
        }
      ]
    },
    {
      "cell_type": "code",
      "metadata": {
        "id": "ZY97nBkZYE2S",
        "colab_type": "code",
        "colab": {}
      },
      "source": [
        ""
      ],
      "execution_count": null,
      "outputs": []
    }
  ]
}